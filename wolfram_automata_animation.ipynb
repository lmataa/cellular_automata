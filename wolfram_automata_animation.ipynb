{
 "cells": [
  {
   "attachments": {},
   "cell_type": "markdown",
   "metadata": {},
   "source": [
    "# Cellular Automaton Visualization\n",
    "\n",
    "This Jupyter Notebook demonstrates the generation of a Wolfram cellular automaton and visualizes it using a dynamic animation. \n",
    "Cellular automata are simple computational models capable of producing complex behavior from a set of basic rules.\n",
    "\n",
    "## Sections\n",
    "\n",
    "1. Helper functions\n",
    "2. Main functions\n",
    "3. Execution and visualization\n",
    "\n",
    "## 1. Helper functions\n",
    "\n",
    "Here we import the necessary libraries for our visualization.\n",
    "\n",
    "- numpy: for numerical operations and array manipulation\n",
    "- matplotlib.pyplot: for plotting the cellular automaton\n",
    "- matplotlib.animation: for creating the animation\n",
    "- numpy.ma: for working with masked arrays"
   ]
  },
  {
   "cell_type": "code",
   "execution_count": null,
   "metadata": {},
   "outputs": [],
   "source": [
    "import matplotlib.pyplot as plt\n",
    "import matplotlib.animation as animation\n",
    "import numpy as np\n",
    "import numpy.ma as ma"
   ]
  },
  {
   "attachments": {},
   "cell_type": "markdown",
   "metadata": {},
   "source": [
    "In this section, we define two helper functions:\n",
    "\n",
    "- window: Generates sliding windows of a specified length (default is 3) over an iterable object.\n",
    "- get_rule: Takes an integer as input and returns a dictionary representing the corresponding Wolfram rule.\n",
    "- random_init_state: Takes a integer and generates a string of 0s and 1s representing an initial state.\n",
    "- interesting_rule_number: return a random choice of some interesting rules.\n"
   ]
  },
  {
   "cell_type": "code",
   "execution_count": null,
   "metadata": {},
   "outputs": [],
   "source": [
    "def window(iterable, stride=3):\n",
    "    \"\"\"\n",
    "    Generate a sliding window of given stride over an iterable.\n",
    "\n",
    "    Args:\n",
    "        iterable: The sequence to slide the window over.\n",
    "        stride: The size of the window.\n",
    "\n",
    "    Yields:\n",
    "        A subsequence of the input iterable with size equal to the stride.\n",
    "    \"\"\"\n",
    "    for i in range(len(iterable) - stride + 1):\n",
    "        yield iterable[i:i + stride]\n",
    "\n",
    "def get_rule(n):\n",
    "    \"\"\"\n",
    "    Get the rule dictionary for a given rule number.\n",
    "\n",
    "    Args:\n",
    "        n: The rule number, an integer between 0 and 255.\n",
    "\n",
    "    Returns:\n",
    "        A dictionary mapping 3-bit binary strings to their corresponding output\n",
    "        according to the specified rule number.\n",
    "    \"\"\"\n",
    "    rule_number = f\"{n:08b}\"[::-1]\n",
    "    return {f\"{i:03b}\": rule_number[i] for i in range(8)}\n",
    "\n",
    "\n",
    "def random_init_state(length):\n",
    "    \"\"\"\n",
    "    Generates a random initial state of the specified length.\n",
    "\n",
    "    Args:\n",
    "        length (int): The length of the initial state.\n",
    "\n",
    "    Returns:\n",
    "        str: A binary string of the specified length, with random '0's and '1's.\n",
    "    \"\"\"\n",
    "    return ''.join(np.random.choice(['0', '1']) for _ in range(length))\n",
    "\n",
    "def interesting_rule_number():\n",
    "    \"\"\"\n",
    "    Returns a random interesting rule number from a list of selected interesting rule numbers.\n",
    "\n",
    "    Returns:\n",
    "        int: A random interesting rule number.\n",
    "    \"\"\"\n",
    "    interesting_rules = [30, 45, 54, 60, 62, 90, 901, 94, 110, 122, 126, 150, 182, 225]\n",
    "    return np.random.choice(interesting_rules)"
   ]
  },
  {
   "attachments": {},
   "cell_type": "markdown",
   "metadata": {},
   "source": [
    "## 2. Cellular automaton\n",
    "\n",
    "The generate_pattern function takes the initial state of the automaton, the rule dictionary, and the number of generations as input.\n",
    "It then iteratively generates the cellular automaton pattern and stores each generation's state in a list, which is returned at the end.\n",
    "\n"
   ]
  },
  {
   "cell_type": "code",
   "execution_count": null,
   "metadata": {},
   "outputs": [],
   "source": [
    "def generate_pattern(state, rule, max_gen):\n",
    "    \"\"\"\n",
    "    Generate a list of states according to the given initial state and rule.\n",
    "\n",
    "    Args:\n",
    "        state: The initial state as a string of '0's and '1's.\n",
    "        rule: The rule dictionary.\n",
    "        max_gen: The number of generations to generate.\n",
    "\n",
    "    Returns:\n",
    "        A list of states for each generation.\n",
    "    \"\"\"\n",
    "    states = [state]\n",
    "    for gen in range(max_gen):\n",
    "        patterns = window(state)\n",
    "        state = ''.join(rule[pat] for pat in patterns)\n",
    "        state = '0{}0'.format(state)\n",
    "        states.append(state)\n",
    "    return states"
   ]
  },
  {
   "attachments": {},
   "cell_type": "markdown",
   "metadata": {},
   "source": [
    "In this section, we define two main functions for the visualization:\n",
    "\n",
    "- update: The update function is called for each frame in the animation. It takes the current frame number, the list of states, and the image object to update. It creates a masked array based on the current frame and sets it as the new image data.\n",
    "- visualize_pattern: This function takes the list of states and optional parameters for the animation interval, whether to save the animation as a gif, and the filename for the gif. It initializes the plot and creates the animation using the update function.\n"
   ]
  },
  {
   "cell_type": "code",
   "execution_count": null,
   "metadata": {},
   "outputs": [],
   "source": [
    "def update(frame, states, im):\n",
    "    \"\"\"\n",
    "    Update the image for the animation.\n",
    "\n",
    "    Args:\n",
    "        frame: The current frame number.\n",
    "        states: A list of states for each generation.\n",
    "        im: The image object to update.\n",
    "    \"\"\"\n",
    "    state_grid = np.array([[int(cell) for cell in row] for row in states[:frame+1]])\n",
    "    padding = np.full((len(states) - frame - 1, len(states[0])), -1)\n",
    "    state_grid = np.vstack((state_grid, padding))\n",
    "    mask = state_grid == -1\n",
    "    masked_state_grid = ma.array(state_grid, mask=mask)\n",
    "    im.set_array(masked_state_grid)\n",
    "    return [im]\n",
    "\n",
    "def visualize_pattern(states, interval=200, save_as_gif=False, filename=None, size=10):\n",
    "    \"\"\"\n",
    "    Visualize the pattern of states using an animated plot with matplotlib.\n",
    "\n",
    "    Args:\n",
    "        states: A list of states for each generation.\n",
    "        interval: Time interval between frames in milliseconds.\n",
    "        save_as_gif: Whether to save the animation as a gif file.\n",
    "        filename: The filename to save the gif, if `save_as_gif` is True.\n",
    "    \"\"\"\n",
    "    full_grid = np.full((len(states), len(states[0])), -1)\n",
    "    fig, ax = plt.subplots(figsize=(size, size))\n",
    "    mask = full_grid == -1\n",
    "    masked_full_grid = ma.array(full_grid, mask=mask)\n",
    "    im = ax.imshow(masked_full_grid, cmap='binary', origin='lower', aspect='auto', animated=True, vmin=0, vmax=1)\n",
    "    \n",
    "    ani = animation.FuncAnimation(fig, update, frames=len(states), fargs=(states, im),\n",
    "                                  interval=interval, blit=True)\n",
    "\n",
    "    plt.axis('off')\n",
    "\n",
    "    if save_as_gif:\n",
    "        if filename is None:\n",
    "            filename = \"cellular_automaton.gif\"\n",
    "        ani.save(filename, writer=\"pillow\", dpi=90)\n",
    "    else:\n",
    "        plt.show()"
   ]
  },
  {
   "attachments": {},
   "cell_type": "markdown",
   "metadata": {},
   "source": [
    "## 3. Execution and visualization\n",
    "Here, we set the number of generations to 100 and define the initial state of the cellular automaton. We then generate the pattern using the Rule 90 and visualize it using the visualize_pattern function. The animation is saved as a gif with the filename ```\"cellular_automaton.gif\"```.\n"
   ]
  },
  {
   "attachments": {},
   "cell_type": "markdown",
   "metadata": {},
   "source": [
    "#### Regular execution"
   ]
  },
  {
   "cell_type": "code",
   "execution_count": null,
   "metadata": {},
   "outputs": [],
   "source": [
    "MAX_GEN = 100\n",
    "init_state = '000000000000000000000000000000000000000010000000000000000000000000000000000000000'\n",
    "\n",
    "states = generate_pattern(init_state, get_rule(90), MAX_GEN)\n",
    "visualize_pattern(states, interval=10, save_as_gif=True, filename=\"cellular_automaton.gif\", size=15)"
   ]
  },
  {
   "attachments": {},
   "cell_type": "markdown",
   "metadata": {},
   "source": [
    "#### Random execution"
   ]
  },
  {
   "cell_type": "code",
   "execution_count": null,
   "metadata": {},
   "outputs": [],
   "source": [
    "MAX_GEN = 200\n",
    "init_state_length = 300\n",
    "\n",
    "init_state = random_init_state(init_state_length)\n",
    "rule_number = interesting_rule_number()\n",
    "print(f\"Using rule number: {rule_number}\")\n",
    "\n",
    "states = generate_pattern(init_state, get_rule(rule_number), MAX_GEN)\n",
    "visualize_pattern(states, interval=10, save_as_gif=True, filename=\"cellular_automaton.gif\", size=15)"
   ]
  }
 ],
 "metadata": {
  "kernelspec": {
   "display_name": "miso",
   "language": "python",
   "name": "python3"
  },
  "language_info": {
   "codemirror_mode": {
    "name": "ipython",
    "version": 3
   },
   "file_extension": ".py",
   "mimetype": "text/x-python",
   "name": "python",
   "nbconvert_exporter": "python",
   "pygments_lexer": "ipython3",
   "version": "3.9.7"
  },
  "orig_nbformat": 4,
  "vscode": {
   "interpreter": {
    "hash": "49905c3d7561cc085b8489ca6b252f17ff8407a0f5f7917f8a0e246b32b04ed0"
   }
  }
 },
 "nbformat": 4,
 "nbformat_minor": 2
}
