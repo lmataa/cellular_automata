{
 "cells": [
  {
   "cell_type": "markdown",
   "metadata": {},
   "source": [
    "# Wolfram cellular automata"
   ]
  },
  {
   "cell_type": "code",
   "execution_count": null,
   "metadata": {},
   "outputs": [],
   "source": [
    "def window(iterable, stride=3):\n",
    "    for i in range(len(iterable) - stride + 1):\n",
    "        yield iterable[i:i + stride]"
   ]
  },
  {
   "cell_type": "code",
   "execution_count": null,
   "metadata": {},
   "outputs": [],
   "source": [
    "def get_rule(n):\n",
    "    rule_number = '{0:08b}'.format(n)[::-1]\n",
    "    print(rule_number)\n",
    "    return {\n",
    "        '000' : rule_number[0],\n",
    "        '001' : rule_number[1],\n",
    "        '010' : rule_number[2],\n",
    "        '011' : rule_number[3],\n",
    "        '100' : rule_number[4],\n",
    "        '101' : rule_number[5],\n",
    "        '110' : rule_number[6],\n",
    "        '111' : rule_number[7],\n",
    "    }"
   ]
  },
  {
   "cell_type": "code",
   "execution_count": null,
   "metadata": {},
   "outputs": [],
   "source": [
    "def generate_pattern(state, rule):\n",
    "    for gen in range(MAX_GEN):\n",
    "        print(state.replace('1', '▅').replace('0', ' '))\n",
    "        patterns = window(state)\n",
    "        state = ''.join(rule[pat] for pat in patterns)\n",
    "        state = '0{}0'.format(state)\n",
    "    print(state.replace('1', '▅').replace('0', ' '))"
   ]
  },
  {
   "cell_type": "code",
   "execution_count": null,
   "metadata": {},
   "outputs": [],
   "source": [
    "MAX_GEN = 100\n",
    "init_state = '000000000000000000000000000000000000000010000000000000000000000000000000000000000'"
   ]
  },
  {
   "cell_type": "code",
   "execution_count": null,
   "metadata": {},
   "outputs": [],
   "source": [
    "generate_pattern(init_state, get_rule(90))"
   ]
  }
 ],
 "metadata": {
  "kernelspec": {
   "display_name": "Python 3",
   "language": "python",
   "name": "python3"
  },
  "language_info": {
   "codemirror_mode": {
    "name": "ipython",
    "version": 3
   },
   "file_extension": ".py",
   "mimetype": "text/x-python",
   "name": "python",
   "nbconvert_exporter": "python",
   "pygments_lexer": "ipython3",
   "version": "3.7.4"
  }
 },
 "nbformat": 4,
 "nbformat_minor": 4
}
