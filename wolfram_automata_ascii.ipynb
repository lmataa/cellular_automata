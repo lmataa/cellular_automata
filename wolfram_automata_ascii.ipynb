{
 "cells": [
  {
   "attachments": {},
   "cell_type": "markdown",
   "metadata": {},
   "source": [
    "# Text-Based Cellular Automaton Visualization\n",
    "\n",
    "This Jupyter Notebook demonstrates the generation of a Wolfram cellular automaton and visualizes it using text-based output. Cellular automata are simple computational models capable of producing complex behavior from a set of basic rules.\n",
    "\n",
    "## Sections\n",
    "\n",
    "1. Helper functions\n",
    "2. Main functions\n",
    "3. Execution\n",
    "\n",
    "## 1. Helper functions\n",
    "In this section, we define two helper functions:\n",
    "\n",
    "- window: Generates sliding windows of a specified length (default is 3) over an iterable object.\n",
    "- get_rule: Takes an integer (0-255) as input and returns a dictionary representing the corresponding Wolfram rule.\n",
    "- print_pattern: Prints to the console a given state replacing 1 with a square.\n"
   ]
  },
  {
   "cell_type": "code",
   "execution_count": 1,
   "metadata": {},
   "outputs": [],
   "source": [
    "def window(iterable, stride=3):\n",
    "    for i in range(len(iterable) - stride + 1):\n",
    "        yield iterable[i:i + stride]"
   ]
  },
  {
   "cell_type": "code",
   "execution_count": 2,
   "metadata": {},
   "outputs": [],
   "source": [
    "def get_rule(n):\n",
    "    \"\"\"\n",
    "    Get the rule dictionary for a given rule number.\n",
    "\n",
    "    Args:\n",
    "        n: The rule number, an integer between 0 and 255.\n",
    "\n",
    "    Returns:\n",
    "        A dictionary mapping 3-bit binary strings to their corresponding output\n",
    "        according to the specified rule number.\n",
    "    \"\"\"\n",
    "    rule_number = f\"{n:08b}\"[::-1]\n",
    "    return {f\"{i:03b}\": rule_number[i] for i in range(8)}"
   ]
  },
  {
   "cell_type": "code",
   "execution_count": 3,
   "metadata": {},
   "outputs": [],
   "source": [
    "def print_pattern(state):\n",
    "    formatted_state = state.replace('1', '\\u25A0').replace('0', ' ')\n",
    "    print(formatted_state)"
   ]
  },
  {
   "attachments": {},
   "cell_type": "markdown",
   "metadata": {},
   "source": [
    "The generate_pattern function takes the current state of the automaton and the rule dictionary as input. It then iteratively generates the cellular automaton pattern and prints each generation's state using a text-based visualization, where '■' represents the \"on\" cells and ' ' (space) represents the \"off\" cells.\n"
   ]
  },
  {
   "cell_type": "code",
   "execution_count": 4,
   "metadata": {},
   "outputs": [],
   "source": [
    "def generate_pattern(init_state, rule, max_gen):\n",
    "    state = init_state\n",
    "    for gen in range(max_gen):\n",
    "        print_pattern(state)\n",
    "        patterns = window(state)\n",
    "        state = ''.join(rule[pat] for pat in patterns)\n",
    "        state = '0{}0'.format(state)\n",
    "    print_pattern(state)"
   ]
  },
  {
   "cell_type": "markdown",
   "metadata": {},
   "source": [
    "Here, we set the number of generations to 100 and define the initial state of the cellular automaton. We then generate the pattern using the Rule 90 and visualize it using the generate_pattern function. The text-based visualization is printed to the console."
   ]
  },
  {
   "cell_type": "code",
   "execution_count": 5,
   "metadata": {},
   "outputs": [],
   "source": [
    "MAX_GEN = 100\n",
    "init_state = '000000000000000000000000000000000000000010000000000000000000000000000000000000000'"
   ]
  },
  {
   "cell_type": "code",
   "execution_count": 6,
   "metadata": {},
   "outputs": [
    {
     "name": "stdout",
     "output_type": "stream",
     "text": [
      "                                        ■                                        \n",
      "                                       ■ ■                                       \n",
      "                                      ■   ■                                      \n",
      "                                     ■ ■ ■ ■                                     \n",
      "                                    ■       ■                                    \n",
      "                                   ■ ■     ■ ■                                   \n",
      "                                  ■   ■   ■   ■                                  \n",
      "                                 ■ ■ ■ ■ ■ ■ ■ ■                                 \n",
      "                                ■               ■                                \n",
      "                               ■ ■             ■ ■                               \n",
      "                              ■   ■           ■   ■                              \n",
      "                             ■ ■ ■ ■         ■ ■ ■ ■                             \n",
      "                            ■       ■       ■       ■                            \n",
      "                           ■ ■     ■ ■     ■ ■     ■ ■                           \n",
      "                          ■   ■   ■   ■   ■   ■   ■   ■                          \n",
      "                         ■ ■ ■ ■ ■ ■ ■ ■ ■ ■ ■ ■ ■ ■ ■ ■                         \n",
      "                        ■                               ■                        \n",
      "                       ■ ■                             ■ ■                       \n",
      "                      ■   ■                           ■   ■                      \n",
      "                     ■ ■ ■ ■                         ■ ■ ■ ■                     \n",
      "                    ■       ■                       ■       ■                    \n",
      "                   ■ ■     ■ ■                     ■ ■     ■ ■                   \n",
      "                  ■   ■   ■   ■                   ■   ■   ■   ■                  \n",
      "                 ■ ■ ■ ■ ■ ■ ■ ■                 ■ ■ ■ ■ ■ ■ ■ ■                 \n",
      "                ■               ■               ■               ■                \n",
      "               ■ ■             ■ ■             ■ ■             ■ ■               \n",
      "              ■   ■           ■   ■           ■   ■           ■   ■              \n",
      "             ■ ■ ■ ■         ■ ■ ■ ■         ■ ■ ■ ■         ■ ■ ■ ■             \n",
      "            ■       ■       ■       ■       ■       ■       ■       ■            \n",
      "           ■ ■     ■ ■     ■ ■     ■ ■     ■ ■     ■ ■     ■ ■     ■ ■           \n",
      "          ■   ■   ■   ■   ■   ■   ■   ■   ■   ■   ■   ■   ■   ■   ■   ■          \n",
      "         ■ ■ ■ ■ ■ ■ ■ ■ ■ ■ ■ ■ ■ ■ ■ ■ ■ ■ ■ ■ ■ ■ ■ ■ ■ ■ ■ ■ ■ ■ ■ ■         \n",
      "        ■                                                               ■        \n",
      "       ■ ■                                                             ■ ■       \n",
      "      ■   ■                                                           ■   ■      \n",
      "     ■ ■ ■ ■                                                         ■ ■ ■ ■     \n",
      "    ■       ■                                                       ■       ■    \n",
      "   ■ ■     ■ ■                                                     ■ ■     ■ ■   \n",
      "  ■   ■   ■   ■                                                   ■   ■   ■   ■  \n",
      " ■ ■ ■ ■ ■ ■ ■ ■                                                 ■ ■ ■ ■ ■ ■ ■ ■ \n",
      "                ■                                               ■                \n",
      "               ■ ■                                             ■ ■               \n",
      "              ■   ■                                           ■   ■              \n",
      "             ■ ■ ■ ■                                         ■ ■ ■ ■             \n",
      "            ■       ■                                       ■       ■            \n",
      "           ■ ■     ■ ■                                     ■ ■     ■ ■           \n",
      "          ■   ■   ■   ■                                   ■   ■   ■   ■          \n",
      "         ■ ■ ■ ■ ■ ■ ■ ■                                 ■ ■ ■ ■ ■ ■ ■ ■         \n",
      "        ■               ■                               ■               ■        \n",
      "       ■ ■             ■ ■                             ■ ■             ■ ■       \n",
      "      ■   ■           ■   ■                           ■   ■           ■   ■      \n",
      "     ■ ■ ■ ■         ■ ■ ■ ■                         ■ ■ ■ ■         ■ ■ ■ ■     \n",
      "    ■       ■       ■       ■                       ■       ■       ■       ■    \n",
      "   ■ ■     ■ ■     ■ ■     ■ ■                     ■ ■     ■ ■     ■ ■     ■ ■   \n",
      "  ■   ■   ■   ■   ■   ■   ■   ■                   ■   ■   ■   ■   ■   ■   ■   ■  \n",
      " ■ ■ ■ ■ ■ ■ ■ ■ ■ ■ ■ ■ ■ ■ ■ ■                 ■ ■ ■ ■ ■ ■ ■ ■ ■ ■ ■ ■ ■ ■ ■ ■ \n",
      "                                ■               ■                                \n",
      "                               ■ ■             ■ ■                               \n",
      "                              ■   ■           ■   ■                              \n",
      "                             ■ ■ ■ ■         ■ ■ ■ ■                             \n",
      "                            ■       ■       ■       ■                            \n",
      "                           ■ ■     ■ ■     ■ ■     ■ ■                           \n",
      "                          ■   ■   ■   ■   ■   ■   ■   ■                          \n",
      "                         ■ ■ ■ ■ ■ ■ ■ ■ ■ ■ ■ ■ ■ ■ ■ ■                         \n",
      "                        ■                               ■                        \n",
      "                       ■ ■                             ■ ■                       \n",
      "                      ■   ■                           ■   ■                      \n",
      "                     ■ ■ ■ ■                         ■ ■ ■ ■                     \n",
      "                    ■       ■                       ■       ■                    \n",
      "                   ■ ■     ■ ■                     ■ ■     ■ ■                   \n",
      "                  ■   ■   ■   ■                   ■   ■   ■   ■                  \n",
      "                 ■ ■ ■ ■ ■ ■ ■ ■                 ■ ■ ■ ■ ■ ■ ■ ■                 \n",
      "                ■               ■               ■               ■                \n",
      "               ■ ■             ■ ■             ■ ■             ■ ■               \n",
      "              ■   ■           ■   ■           ■   ■           ■   ■              \n",
      "             ■ ■ ■ ■         ■ ■ ■ ■         ■ ■ ■ ■         ■ ■ ■ ■             \n",
      "            ■       ■       ■       ■       ■       ■       ■       ■            \n",
      "           ■ ■     ■ ■     ■ ■     ■ ■     ■ ■     ■ ■     ■ ■     ■ ■           \n",
      "          ■   ■   ■   ■   ■   ■   ■   ■   ■   ■   ■   ■   ■   ■   ■   ■          \n",
      "         ■ ■ ■ ■ ■ ■ ■ ■ ■ ■ ■ ■ ■ ■ ■ ■ ■ ■ ■ ■ ■ ■ ■ ■ ■ ■ ■ ■ ■ ■ ■ ■         \n",
      "        ■                                                               ■        \n",
      "       ■ ■                                                             ■ ■       \n",
      "      ■   ■                                                           ■   ■      \n",
      "     ■ ■ ■ ■                                                         ■ ■ ■ ■     \n",
      "    ■       ■                                                       ■       ■    \n",
      "   ■ ■     ■ ■                                                     ■ ■     ■ ■   \n",
      "  ■   ■   ■   ■                                                   ■   ■   ■   ■  \n",
      " ■ ■ ■ ■ ■ ■ ■ ■                                                 ■ ■ ■ ■ ■ ■ ■ ■ \n",
      "                ■                                               ■                \n",
      "               ■ ■                                             ■ ■               \n",
      "              ■   ■                                           ■   ■              \n",
      "             ■ ■ ■ ■                                         ■ ■ ■ ■             \n",
      "            ■       ■                                       ■       ■            \n",
      "           ■ ■     ■ ■                                     ■ ■     ■ ■           \n",
      "          ■   ■   ■   ■                                   ■   ■   ■   ■          \n",
      "         ■ ■ ■ ■ ■ ■ ■ ■                                 ■ ■ ■ ■ ■ ■ ■ ■         \n",
      "        ■               ■                               ■               ■        \n",
      "       ■ ■             ■ ■                             ■ ■             ■ ■       \n",
      "      ■   ■           ■   ■                           ■   ■           ■   ■      \n",
      "     ■ ■ ■ ■         ■ ■ ■ ■                         ■ ■ ■ ■         ■ ■ ■ ■     \n",
      "    ■       ■       ■       ■                       ■       ■       ■       ■    \n"
     ]
    }
   ],
   "source": [
    "generate_pattern(init_state, get_rule(90), MAX_GEN)"
   ]
  }
 ],
 "metadata": {
  "kernelspec": {
   "display_name": "miso",
   "language": "python",
   "name": "python3"
  },
  "language_info": {
   "codemirror_mode": {
    "name": "ipython",
    "version": 3
   },
   "file_extension": ".py",
   "mimetype": "text/x-python",
   "name": "python",
   "nbconvert_exporter": "python",
   "pygments_lexer": "ipython3",
   "version": "3.9.7"
  },
  "vscode": {
   "interpreter": {
    "hash": "49905c3d7561cc085b8489ca6b252f17ff8407a0f5f7917f8a0e246b32b04ed0"
   }
  }
 },
 "nbformat": 4,
 "nbformat_minor": 4
}
